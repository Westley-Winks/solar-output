{
 "cells": [
  {
   "cell_type": "markdown",
   "metadata": {},
   "source": [
    "# The Problem\n",
    "As solar technology gets better and better, it will be crucial in the future to be able to predict the energy output of a given solar panel installation. This can be affected by solar panel technology and weather.\n",
    "\n",
    "A family friend recently bought some property in Oregon. He was told that it was a premium place for solar panels. I wanted to test this claim and use machine learning to predict the actual energy output (not the available energy) of solar panels in this location. Namely, I wanted to answer the following:\n",
    "\n",
    "- How much energy can we get from solar panels placed on the property?\n",
    "- Can we use \"easy\" predictors like those given in a weather forecast to accurately predict the energy output?"
   ]
  },
  {
   "cell_type": "code",
   "execution_count": 1,
   "metadata": {},
   "outputs": [],
   "source": [
    "import pandas as pd\n",
    "import matplotlib.pyplot as plt\n",
    "import seaborn as sns\n",
    "sns.set()\n",
    "import numpy as np\n",
    "import pickle\n",
    "\n",
    "from sklearn.model_selection import train_test_split\n",
    "from sklearn.preprocessing import StandardScaler\n",
    "from sklearn.pipeline import Pipeline\n",
    "from sklearn.model_selection import GridSearchCV\n",
    "from sklearn.model_selection import RandomizedSearchCV\n",
    "from sklearn.model_selection import cross_val_score\n",
    "from sklearn.metrics import mean_squared_error\n",
    "from sklearn.tree import DecisionTreeRegressor\n",
    "from sklearn.ensemble import RandomForestRegressor\n",
    "from sklearn.linear_model import LinearRegression"
   ]
  },
  {
   "cell_type": "markdown",
   "metadata": {},
   "source": [
    "# The Data\n",
    "Christil K. Pasion wrote a thesis on this problem for the Air Force Institute of Technology and left the pre-processed data open and available. The paper is in the file `Pasion-paper.pdf`. \n",
    "\n",
    "Basically, the team setup solar panels across the world and logged the output (in Watts) every 15 minutes. The temperature and humidity were also recorded at the site. Other associated weather data came from the nearest NOAA weather station available.\n",
    "\n",
    "During cleaning of the data, the author cut a lot of it out for various reasons. This left only the data from the polycrystalline panels. However, there is still over a year's worth of data from 12 different locations in the United States with a grand total of 21,045 complete data points.\n",
    "\n",
    "One confusion about the data is it is unclear the rated wattage of the panels are. In the materials description, the author states the monocrystalline panels are 50 watts and the polycrystalline panels are 25 watts. Later on when describing how they cut out data, the author states the opposite: \"the monocrystalline panel at the United States Air Force Academy, in Colorado, recorded data above 400 watts, much outside of the panel’s 25-watt rating.\" I looked online for all four combinations (mono-25W, poly-25W, mono-50W, poly-50W) of these products and they are all available from Amazon. After further reading the chapter, I am going to assume the rated output is 50 watts and these are polycrystalline panels."
   ]
  },
  {
   "cell_type": "code",
   "execution_count": 2,
   "metadata": {},
   "outputs": [
    {
     "data": {
      "text/html": [
       "<div>\n",
       "<style scoped>\n",
       "    .dataframe tbody tr th:only-of-type {\n",
       "        vertical-align: middle;\n",
       "    }\n",
       "\n",
       "    .dataframe tbody tr th {\n",
       "        vertical-align: top;\n",
       "    }\n",
       "\n",
       "    .dataframe thead th {\n",
       "        text-align: right;\n",
       "    }\n",
       "</style>\n",
       "<table border=\"1\" class=\"dataframe\">\n",
       "  <thead>\n",
       "    <tr style=\"text-align: right;\">\n",
       "      <th></th>\n",
       "      <th>Location</th>\n",
       "      <th>Date</th>\n",
       "      <th>Time</th>\n",
       "      <th>Latitude</th>\n",
       "      <th>Longitude</th>\n",
       "      <th>Altitude</th>\n",
       "      <th>YRMODAHRMI</th>\n",
       "      <th>Month</th>\n",
       "      <th>Hour</th>\n",
       "      <th>Season</th>\n",
       "      <th>Humidity</th>\n",
       "      <th>AmbientTemp</th>\n",
       "      <th>PolyPwr</th>\n",
       "      <th>Wind.Speed</th>\n",
       "      <th>Visibility</th>\n",
       "      <th>Pressure</th>\n",
       "      <th>Cloud.Ceiling</th>\n",
       "    </tr>\n",
       "  </thead>\n",
       "  <tbody>\n",
       "    <tr>\n",
       "      <th>0</th>\n",
       "      <td>Camp Murray</td>\n",
       "      <td>20171203</td>\n",
       "      <td>1145</td>\n",
       "      <td>47.11</td>\n",
       "      <td>-122.57</td>\n",
       "      <td>84</td>\n",
       "      <td>2.017120e+11</td>\n",
       "      <td>12</td>\n",
       "      <td>11</td>\n",
       "      <td>Winter</td>\n",
       "      <td>81.71997</td>\n",
       "      <td>12.86919</td>\n",
       "      <td>2.42769</td>\n",
       "      <td>5</td>\n",
       "      <td>10.0</td>\n",
       "      <td>1010.6</td>\n",
       "      <td>722</td>\n",
       "    </tr>\n",
       "    <tr>\n",
       "      <th>1</th>\n",
       "      <td>Camp Murray</td>\n",
       "      <td>20171203</td>\n",
       "      <td>1315</td>\n",
       "      <td>47.11</td>\n",
       "      <td>-122.57</td>\n",
       "      <td>84</td>\n",
       "      <td>2.017120e+11</td>\n",
       "      <td>12</td>\n",
       "      <td>13</td>\n",
       "      <td>Winter</td>\n",
       "      <td>96.64917</td>\n",
       "      <td>9.66415</td>\n",
       "      <td>2.46273</td>\n",
       "      <td>0</td>\n",
       "      <td>10.0</td>\n",
       "      <td>1011.3</td>\n",
       "      <td>23</td>\n",
       "    </tr>\n",
       "    <tr>\n",
       "      <th>2</th>\n",
       "      <td>Camp Murray</td>\n",
       "      <td>20171203</td>\n",
       "      <td>1330</td>\n",
       "      <td>47.11</td>\n",
       "      <td>-122.57</td>\n",
       "      <td>84</td>\n",
       "      <td>2.017120e+11</td>\n",
       "      <td>12</td>\n",
       "      <td>13</td>\n",
       "      <td>Winter</td>\n",
       "      <td>93.61572</td>\n",
       "      <td>15.44983</td>\n",
       "      <td>4.46836</td>\n",
       "      <td>5</td>\n",
       "      <td>10.0</td>\n",
       "      <td>1011.6</td>\n",
       "      <td>32</td>\n",
       "    </tr>\n",
       "    <tr>\n",
       "      <th>3</th>\n",
       "      <td>Camp Murray</td>\n",
       "      <td>20171204</td>\n",
       "      <td>1230</td>\n",
       "      <td>47.11</td>\n",
       "      <td>-122.57</td>\n",
       "      <td>84</td>\n",
       "      <td>2.017120e+11</td>\n",
       "      <td>12</td>\n",
       "      <td>12</td>\n",
       "      <td>Winter</td>\n",
       "      <td>77.21558</td>\n",
       "      <td>10.36659</td>\n",
       "      <td>1.65364</td>\n",
       "      <td>5</td>\n",
       "      <td>2.0</td>\n",
       "      <td>1024.4</td>\n",
       "      <td>6</td>\n",
       "    </tr>\n",
       "    <tr>\n",
       "      <th>4</th>\n",
       "      <td>Camp Murray</td>\n",
       "      <td>20171204</td>\n",
       "      <td>1415</td>\n",
       "      <td>47.11</td>\n",
       "      <td>-122.57</td>\n",
       "      <td>84</td>\n",
       "      <td>2.017120e+11</td>\n",
       "      <td>12</td>\n",
       "      <td>14</td>\n",
       "      <td>Winter</td>\n",
       "      <td>54.80347</td>\n",
       "      <td>16.85471</td>\n",
       "      <td>6.57939</td>\n",
       "      <td>3</td>\n",
       "      <td>3.0</td>\n",
       "      <td>1023.7</td>\n",
       "      <td>9</td>\n",
       "    </tr>\n",
       "  </tbody>\n",
       "</table>\n",
       "</div>"
      ],
      "text/plain": [
       "      Location      Date  Time  Latitude  Longitude  Altitude    YRMODAHRMI  \\\n",
       "0  Camp Murray  20171203  1145     47.11    -122.57        84  2.017120e+11   \n",
       "1  Camp Murray  20171203  1315     47.11    -122.57        84  2.017120e+11   \n",
       "2  Camp Murray  20171203  1330     47.11    -122.57        84  2.017120e+11   \n",
       "3  Camp Murray  20171204  1230     47.11    -122.57        84  2.017120e+11   \n",
       "4  Camp Murray  20171204  1415     47.11    -122.57        84  2.017120e+11   \n",
       "\n",
       "   Month  Hour  Season  Humidity  AmbientTemp  PolyPwr  Wind.Speed  \\\n",
       "0     12    11  Winter  81.71997     12.86919  2.42769           5   \n",
       "1     12    13  Winter  96.64917      9.66415  2.46273           0   \n",
       "2     12    13  Winter  93.61572     15.44983  4.46836           5   \n",
       "3     12    12  Winter  77.21558     10.36659  1.65364           5   \n",
       "4     12    14  Winter  54.80347     16.85471  6.57939           3   \n",
       "\n",
       "   Visibility  Pressure  Cloud.Ceiling  \n",
       "0        10.0    1010.6            722  \n",
       "1        10.0    1011.3             23  \n",
       "2        10.0    1011.6             32  \n",
       "3         2.0    1024.4              6  \n",
       "4         3.0    1023.7              9  "
      ]
     },
     "execution_count": 2,
     "metadata": {},
     "output_type": "execute_result"
    }
   ],
   "source": [
    "data = pd.read_csv(\"raw-data-Pasion.csv\")\n",
    "data.head()"
   ]
  },
  {
   "cell_type": "code",
   "execution_count": 3,
   "metadata": {},
   "outputs": [
    {
     "name": "stdout",
     "output_type": "stream",
     "text": [
      "<class 'pandas.core.frame.DataFrame'>\n",
      "RangeIndex: 21045 entries, 0 to 21044\n",
      "Data columns (total 17 columns):\n",
      " #   Column         Non-Null Count  Dtype  \n",
      "---  ------         --------------  -----  \n",
      " 0   Location       21045 non-null  object \n",
      " 1   Date           21045 non-null  int64  \n",
      " 2   Time           21045 non-null  int64  \n",
      " 3   Latitude       21045 non-null  float64\n",
      " 4   Longitude      21045 non-null  float64\n",
      " 5   Altitude       21045 non-null  int64  \n",
      " 6   YRMODAHRMI     21045 non-null  float64\n",
      " 7   Month          21045 non-null  int64  \n",
      " 8   Hour           21045 non-null  int64  \n",
      " 9   Season         21045 non-null  object \n",
      " 10  Humidity       21045 non-null  float64\n",
      " 11  AmbientTemp    21045 non-null  float64\n",
      " 12  PolyPwr        21045 non-null  float64\n",
      " 13  Wind.Speed     21045 non-null  int64  \n",
      " 14  Visibility     21045 non-null  float64\n",
      " 15  Pressure       21045 non-null  float64\n",
      " 16  Cloud.Ceiling  21045 non-null  int64  \n",
      "dtypes: float64(8), int64(7), object(2)\n",
      "memory usage: 2.7+ MB\n"
     ]
    }
   ],
   "source": [
    "data.info()"
   ]
  },
  {
   "cell_type": "code",
   "execution_count": 4,
   "metadata": {},
   "outputs": [
    {
     "data": {
      "text/html": [
       "<div>\n",
       "<style scoped>\n",
       "    .dataframe tbody tr th:only-of-type {\n",
       "        vertical-align: middle;\n",
       "    }\n",
       "\n",
       "    .dataframe tbody tr th {\n",
       "        vertical-align: top;\n",
       "    }\n",
       "\n",
       "    .dataframe thead th {\n",
       "        text-align: right;\n",
       "    }\n",
       "</style>\n",
       "<table border=\"1\" class=\"dataframe\">\n",
       "  <thead>\n",
       "    <tr style=\"text-align: right;\">\n",
       "      <th></th>\n",
       "      <th>Date</th>\n",
       "      <th>Time</th>\n",
       "      <th>Latitude</th>\n",
       "      <th>Longitude</th>\n",
       "      <th>Altitude</th>\n",
       "      <th>YRMODAHRMI</th>\n",
       "      <th>Month</th>\n",
       "      <th>Hour</th>\n",
       "      <th>Humidity</th>\n",
       "      <th>AmbientTemp</th>\n",
       "      <th>PolyPwr</th>\n",
       "      <th>Wind.Speed</th>\n",
       "      <th>Visibility</th>\n",
       "      <th>Pressure</th>\n",
       "      <th>Cloud.Ceiling</th>\n",
       "    </tr>\n",
       "  </thead>\n",
       "  <tbody>\n",
       "    <tr>\n",
       "      <th>count</th>\n",
       "      <td>2.104500e+04</td>\n",
       "      <td>21045.000000</td>\n",
       "      <td>21045.000000</td>\n",
       "      <td>21045.000000</td>\n",
       "      <td>21045.000000</td>\n",
       "      <td>2.104500e+04</td>\n",
       "      <td>21045.000000</td>\n",
       "      <td>21045.000000</td>\n",
       "      <td>21045.000000</td>\n",
       "      <td>21045.000000</td>\n",
       "      <td>21045.000000</td>\n",
       "      <td>21045.000000</td>\n",
       "      <td>21045.000000</td>\n",
       "      <td>21045.000000</td>\n",
       "      <td>21045.000000</td>\n",
       "    </tr>\n",
       "    <tr>\n",
       "      <th>mean</th>\n",
       "      <td>2.017720e+07</td>\n",
       "      <td>1267.483725</td>\n",
       "      <td>38.213823</td>\n",
       "      <td>-108.593678</td>\n",
       "      <td>798.843668</td>\n",
       "      <td>2.017718e+11</td>\n",
       "      <td>6.565883</td>\n",
       "      <td>12.627845</td>\n",
       "      <td>37.121941</td>\n",
       "      <td>29.285117</td>\n",
       "      <td>12.978583</td>\n",
       "      <td>10.318318</td>\n",
       "      <td>9.700071</td>\n",
       "      <td>925.944747</td>\n",
       "      <td>515.966785</td>\n",
       "    </tr>\n",
       "    <tr>\n",
       "      <th>std</th>\n",
       "      <td>4.579585e+03</td>\n",
       "      <td>167.602767</td>\n",
       "      <td>6.323761</td>\n",
       "      <td>16.364130</td>\n",
       "      <td>770.681794</td>\n",
       "      <td>4.579846e+07</td>\n",
       "      <td>2.983958</td>\n",
       "      <td>1.672952</td>\n",
       "      <td>23.823011</td>\n",
       "      <td>12.366820</td>\n",
       "      <td>7.123255</td>\n",
       "      <td>6.385030</td>\n",
       "      <td>1.351949</td>\n",
       "      <td>85.215659</td>\n",
       "      <td>301.903379</td>\n",
       "    </tr>\n",
       "    <tr>\n",
       "      <th>min</th>\n",
       "      <td>2.017052e+07</td>\n",
       "      <td>1000.000000</td>\n",
       "      <td>20.890000</td>\n",
       "      <td>-156.440000</td>\n",
       "      <td>1.000000</td>\n",
       "      <td>2.017050e+11</td>\n",
       "      <td>1.000000</td>\n",
       "      <td>10.000000</td>\n",
       "      <td>0.000000</td>\n",
       "      <td>-19.981770</td>\n",
       "      <td>0.257330</td>\n",
       "      <td>0.000000</td>\n",
       "      <td>0.000000</td>\n",
       "      <td>781.700000</td>\n",
       "      <td>0.000000</td>\n",
       "    </tr>\n",
       "    <tr>\n",
       "      <th>25%</th>\n",
       "      <td>2.017111e+07</td>\n",
       "      <td>1100.000000</td>\n",
       "      <td>38.160000</td>\n",
       "      <td>-117.260000</td>\n",
       "      <td>2.000000</td>\n",
       "      <td>2.017110e+11</td>\n",
       "      <td>4.000000</td>\n",
       "      <td>11.000000</td>\n",
       "      <td>17.529300</td>\n",
       "      <td>21.915280</td>\n",
       "      <td>6.404570</td>\n",
       "      <td>6.000000</td>\n",
       "      <td>10.000000</td>\n",
       "      <td>845.500000</td>\n",
       "      <td>140.000000</td>\n",
       "    </tr>\n",
       "    <tr>\n",
       "      <th>50%</th>\n",
       "      <td>2.018032e+07</td>\n",
       "      <td>1300.000000</td>\n",
       "      <td>38.950000</td>\n",
       "      <td>-111.180000</td>\n",
       "      <td>458.000000</td>\n",
       "      <td>2.018030e+11</td>\n",
       "      <td>7.000000</td>\n",
       "      <td>13.000000</td>\n",
       "      <td>33.123780</td>\n",
       "      <td>30.289150</td>\n",
       "      <td>13.798700</td>\n",
       "      <td>9.000000</td>\n",
       "      <td>10.000000</td>\n",
       "      <td>961.100000</td>\n",
       "      <td>722.000000</td>\n",
       "    </tr>\n",
       "    <tr>\n",
       "      <th>75%</th>\n",
       "      <td>2.018062e+07</td>\n",
       "      <td>1400.000000</td>\n",
       "      <td>41.150000</td>\n",
       "      <td>-104.710000</td>\n",
       "      <td>1370.000000</td>\n",
       "      <td>2.018060e+11</td>\n",
       "      <td>9.000000</td>\n",
       "      <td>14.000000</td>\n",
       "      <td>52.593990</td>\n",
       "      <td>37.474670</td>\n",
       "      <td>18.863650</td>\n",
       "      <td>14.000000</td>\n",
       "      <td>10.000000</td>\n",
       "      <td>1008.900000</td>\n",
       "      <td>722.000000</td>\n",
       "    </tr>\n",
       "    <tr>\n",
       "      <th>max</th>\n",
       "      <td>2.018100e+07</td>\n",
       "      <td>1545.000000</td>\n",
       "      <td>47.520000</td>\n",
       "      <td>-80.110000</td>\n",
       "      <td>1947.000000</td>\n",
       "      <td>2.018100e+11</td>\n",
       "      <td>12.000000</td>\n",
       "      <td>15.000000</td>\n",
       "      <td>99.987790</td>\n",
       "      <td>65.738370</td>\n",
       "      <td>34.285020</td>\n",
       "      <td>49.000000</td>\n",
       "      <td>10.000000</td>\n",
       "      <td>1029.500000</td>\n",
       "      <td>722.000000</td>\n",
       "    </tr>\n",
       "  </tbody>\n",
       "</table>\n",
       "</div>"
      ],
      "text/plain": [
       "               Date          Time      Latitude     Longitude      Altitude  \\\n",
       "count  2.104500e+04  21045.000000  21045.000000  21045.000000  21045.000000   \n",
       "mean   2.017720e+07   1267.483725     38.213823   -108.593678    798.843668   \n",
       "std    4.579585e+03    167.602767      6.323761     16.364130    770.681794   \n",
       "min    2.017052e+07   1000.000000     20.890000   -156.440000      1.000000   \n",
       "25%    2.017111e+07   1100.000000     38.160000   -117.260000      2.000000   \n",
       "50%    2.018032e+07   1300.000000     38.950000   -111.180000    458.000000   \n",
       "75%    2.018062e+07   1400.000000     41.150000   -104.710000   1370.000000   \n",
       "max    2.018100e+07   1545.000000     47.520000    -80.110000   1947.000000   \n",
       "\n",
       "         YRMODAHRMI         Month          Hour      Humidity   AmbientTemp  \\\n",
       "count  2.104500e+04  21045.000000  21045.000000  21045.000000  21045.000000   \n",
       "mean   2.017718e+11      6.565883     12.627845     37.121941     29.285117   \n",
       "std    4.579846e+07      2.983958      1.672952     23.823011     12.366820   \n",
       "min    2.017050e+11      1.000000     10.000000      0.000000    -19.981770   \n",
       "25%    2.017110e+11      4.000000     11.000000     17.529300     21.915280   \n",
       "50%    2.018030e+11      7.000000     13.000000     33.123780     30.289150   \n",
       "75%    2.018060e+11      9.000000     14.000000     52.593990     37.474670   \n",
       "max    2.018100e+11     12.000000     15.000000     99.987790     65.738370   \n",
       "\n",
       "            PolyPwr    Wind.Speed    Visibility      Pressure  Cloud.Ceiling  \n",
       "count  21045.000000  21045.000000  21045.000000  21045.000000   21045.000000  \n",
       "mean      12.978583     10.318318      9.700071    925.944747     515.966785  \n",
       "std        7.123255      6.385030      1.351949     85.215659     301.903379  \n",
       "min        0.257330      0.000000      0.000000    781.700000       0.000000  \n",
       "25%        6.404570      6.000000     10.000000    845.500000     140.000000  \n",
       "50%       13.798700      9.000000     10.000000    961.100000     722.000000  \n",
       "75%       18.863650     14.000000     10.000000   1008.900000     722.000000  \n",
       "max       34.285020     49.000000     10.000000   1029.500000     722.000000  "
      ]
     },
     "execution_count": 4,
     "metadata": {},
     "output_type": "execute_result"
    }
   ],
   "source": [
    "data.describe()"
   ]
  },
  {
   "cell_type": "markdown",
   "metadata": {},
   "source": [
    "From the above table, it looks like visibility doesn't have many unique values as most of them are 10 miles indicating very high visibility. This is the highest allowed value reported by NOAA. No missing data though!"
   ]
  },
  {
   "cell_type": "markdown",
   "metadata": {},
   "source": [
    "## Cleaning\n",
    "Since the author of the data already did most of the hard cleaning, it will be relatively easy and straightforward. \n",
    "\n",
    "First, I want to change the `Date` and `Time` columns. I will combine these two and convert from integers to an actual datetime object. \n",
    "\n",
    "Second, there are going to be some columns that are not very useful. `YRMODAHRMI` is just another representation of the datetime but that is taken care of. Similarly, I will drop other columns that contain date and time information such as `Month` and `Hour`. `Season` is also useless for what I am doing since it can be inferred from the date.\n",
    "\n",
    "The other cleaning tasks I will do are convert the cloud ceiling measurement to kilometers. This is the standard unit for NOAA and the maximum measurement is 22 kilometers. Finally, I will reorder the columns to put the target (or at least the proxy for the target) to the front, per convention.\n",
    "\n",
    "In summary, the cleaning tasks involved:\n",
    "- convert cloud ceiling from feet to meters\n",
    "- drop useless columns\n",
    "- convert date and time from int to datetime\n",
    "- reorder columns"
   ]
  },
  {
   "cell_type": "code",
   "execution_count": 5,
   "metadata": {},
   "outputs": [
    {
     "data": {
      "text/plain": [
       "array(['Location', 'Latitude', 'Longitude', 'Altitude', 'Humidity',\n",
       "       'AmbientTemp', 'PolyPwr', 'Wind.Speed', 'Visibility', 'Pressure',\n",
       "       'Cloud.Ceiling', 'datetime'], dtype=object)"
      ]
     },
     "execution_count": 5,
     "metadata": {},
     "output_type": "execute_result"
    }
   ],
   "source": [
    "dirty_df = data.copy()\n",
    "\n",
    "dtype_converter = {\n",
    "    \"Date\": str,\n",
    "    \"Time\": str\n",
    "}\n",
    "dirty_df = dirty_df.astype(dtype_converter)\n",
    "\n",
    "dirty_df[\"datetime\"] = dirty_df[\"Date\"] + dirty_df[\"Time\"]\n",
    "dirty_df[\"datetime\"] = pd.to_datetime(dirty_df[\"datetime\"], format=\"%Y%m%d%H%M\")\n",
    "\n",
    "dirty_df[\"Cloud.Ceiling\"] = dirty_df[\"Cloud.Ceiling\"]*100/3281 # hundreds of feet -> kilometers\n",
    "\n",
    "dirty_df = dirty_df.drop([\"YRMODAHRMI\", \"Date\", \"Time\", \"Month\", \"Season\", \"Hour\"], axis=1)\n",
    "\n",
    "dirty_df.columns.values"
   ]
  },
  {
   "cell_type": "code",
   "execution_count": 6,
   "metadata": {},
   "outputs": [],
   "source": [
    "dirty_df = dirty_df[['PolyPwr', 'Location', 'Latitude', 'Longitude', 'Altitude',\n",
    "       'Humidity', 'AmbientTemp', 'Wind.Speed',\n",
    "       'Visibility', 'Pressure', 'Cloud.Ceiling', 'datetime']]\n",
    "dirty_df = dirty_df.set_index(\"datetime\")"
   ]
  },
  {
   "cell_type": "code",
   "execution_count": 7,
   "metadata": {},
   "outputs": [
    {
     "data": {
      "text/html": [
       "<div>\n",
       "<style scoped>\n",
       "    .dataframe tbody tr th:only-of-type {\n",
       "        vertical-align: middle;\n",
       "    }\n",
       "\n",
       "    .dataframe tbody tr th {\n",
       "        vertical-align: top;\n",
       "    }\n",
       "\n",
       "    .dataframe thead th {\n",
       "        text-align: right;\n",
       "    }\n",
       "</style>\n",
       "<table border=\"1\" class=\"dataframe\">\n",
       "  <thead>\n",
       "    <tr style=\"text-align: right;\">\n",
       "      <th></th>\n",
       "      <th>PolyPwr</th>\n",
       "      <th>Latitude</th>\n",
       "      <th>Longitude</th>\n",
       "      <th>Altitude</th>\n",
       "      <th>Humidity</th>\n",
       "      <th>AmbientTemp</th>\n",
       "      <th>Wind.Speed</th>\n",
       "      <th>Visibility</th>\n",
       "      <th>Pressure</th>\n",
       "      <th>Cloud.Ceiling</th>\n",
       "    </tr>\n",
       "  </thead>\n",
       "  <tbody>\n",
       "    <tr>\n",
       "      <th>count</th>\n",
       "      <td>21045.000000</td>\n",
       "      <td>21045.000000</td>\n",
       "      <td>21045.000000</td>\n",
       "      <td>21045.000000</td>\n",
       "      <td>21045.000000</td>\n",
       "      <td>21045.000000</td>\n",
       "      <td>21045.000000</td>\n",
       "      <td>21045.000000</td>\n",
       "      <td>21045.000000</td>\n",
       "      <td>21045.000000</td>\n",
       "    </tr>\n",
       "    <tr>\n",
       "      <th>mean</th>\n",
       "      <td>12.978583</td>\n",
       "      <td>38.213823</td>\n",
       "      <td>-108.593678</td>\n",
       "      <td>798.843668</td>\n",
       "      <td>37.121941</td>\n",
       "      <td>29.285117</td>\n",
       "      <td>10.318318</td>\n",
       "      <td>9.700071</td>\n",
       "      <td>925.944747</td>\n",
       "      <td>15.725900</td>\n",
       "    </tr>\n",
       "    <tr>\n",
       "      <th>std</th>\n",
       "      <td>7.123255</td>\n",
       "      <td>6.323761</td>\n",
       "      <td>16.364130</td>\n",
       "      <td>770.681794</td>\n",
       "      <td>23.823011</td>\n",
       "      <td>12.366820</td>\n",
       "      <td>6.385030</td>\n",
       "      <td>1.351949</td>\n",
       "      <td>85.215659</td>\n",
       "      <td>9.201566</td>\n",
       "    </tr>\n",
       "    <tr>\n",
       "      <th>min</th>\n",
       "      <td>0.257330</td>\n",
       "      <td>20.890000</td>\n",
       "      <td>-156.440000</td>\n",
       "      <td>1.000000</td>\n",
       "      <td>0.000000</td>\n",
       "      <td>-19.981770</td>\n",
       "      <td>0.000000</td>\n",
       "      <td>0.000000</td>\n",
       "      <td>781.700000</td>\n",
       "      <td>0.000000</td>\n",
       "    </tr>\n",
       "    <tr>\n",
       "      <th>25%</th>\n",
       "      <td>6.404570</td>\n",
       "      <td>38.160000</td>\n",
       "      <td>-117.260000</td>\n",
       "      <td>2.000000</td>\n",
       "      <td>17.529300</td>\n",
       "      <td>21.915280</td>\n",
       "      <td>6.000000</td>\n",
       "      <td>10.000000</td>\n",
       "      <td>845.500000</td>\n",
       "      <td>4.266992</td>\n",
       "    </tr>\n",
       "    <tr>\n",
       "      <th>50%</th>\n",
       "      <td>13.798700</td>\n",
       "      <td>38.950000</td>\n",
       "      <td>-111.180000</td>\n",
       "      <td>458.000000</td>\n",
       "      <td>33.123780</td>\n",
       "      <td>30.289150</td>\n",
       "      <td>9.000000</td>\n",
       "      <td>10.000000</td>\n",
       "      <td>961.100000</td>\n",
       "      <td>22.005486</td>\n",
       "    </tr>\n",
       "    <tr>\n",
       "      <th>75%</th>\n",
       "      <td>18.863650</td>\n",
       "      <td>41.150000</td>\n",
       "      <td>-104.710000</td>\n",
       "      <td>1370.000000</td>\n",
       "      <td>52.593990</td>\n",
       "      <td>37.474670</td>\n",
       "      <td>14.000000</td>\n",
       "      <td>10.000000</td>\n",
       "      <td>1008.900000</td>\n",
       "      <td>22.005486</td>\n",
       "    </tr>\n",
       "    <tr>\n",
       "      <th>max</th>\n",
       "      <td>34.285020</td>\n",
       "      <td>47.520000</td>\n",
       "      <td>-80.110000</td>\n",
       "      <td>1947.000000</td>\n",
       "      <td>99.987790</td>\n",
       "      <td>65.738370</td>\n",
       "      <td>49.000000</td>\n",
       "      <td>10.000000</td>\n",
       "      <td>1029.500000</td>\n",
       "      <td>22.005486</td>\n",
       "    </tr>\n",
       "  </tbody>\n",
       "</table>\n",
       "</div>"
      ],
      "text/plain": [
       "            PolyPwr      Latitude     Longitude      Altitude      Humidity  \\\n",
       "count  21045.000000  21045.000000  21045.000000  21045.000000  21045.000000   \n",
       "mean      12.978583     38.213823   -108.593678    798.843668     37.121941   \n",
       "std        7.123255      6.323761     16.364130    770.681794     23.823011   \n",
       "min        0.257330     20.890000   -156.440000      1.000000      0.000000   \n",
       "25%        6.404570     38.160000   -117.260000      2.000000     17.529300   \n",
       "50%       13.798700     38.950000   -111.180000    458.000000     33.123780   \n",
       "75%       18.863650     41.150000   -104.710000   1370.000000     52.593990   \n",
       "max       34.285020     47.520000    -80.110000   1947.000000     99.987790   \n",
       "\n",
       "        AmbientTemp    Wind.Speed    Visibility      Pressure  Cloud.Ceiling  \n",
       "count  21045.000000  21045.000000  21045.000000  21045.000000   21045.000000  \n",
       "mean      29.285117     10.318318      9.700071    925.944747      15.725900  \n",
       "std       12.366820      6.385030      1.351949     85.215659       9.201566  \n",
       "min      -19.981770      0.000000      0.000000    781.700000       0.000000  \n",
       "25%       21.915280      6.000000     10.000000    845.500000       4.266992  \n",
       "50%       30.289150      9.000000     10.000000    961.100000      22.005486  \n",
       "75%       37.474670     14.000000     10.000000   1008.900000      22.005486  \n",
       "max       65.738370     49.000000     10.000000   1029.500000      22.005486  "
      ]
     },
     "execution_count": 7,
     "metadata": {},
     "output_type": "execute_result"
    }
   ],
   "source": [
    "df = dirty_df.copy()\n",
    "df.describe()"
   ]
  },
  {
   "cell_type": "markdown",
   "metadata": {},
   "source": [
    "## Feature Engineering\n",
    "As of now, the data is sparse with measurements every 15 minutes with many missing in a day. For this project, I would like to be able to predict the daily energy output. Therefore, I will transform the features into daily energy output.\n",
    "\n",
    "This is done by grouping the data into dates and then grouping those by location. For each unique location on a unique date, the daily output is calculated following:\n",
    "$$E_{daily} = \\int_{t_i}^{t_f}Pdt$$\n",
    "where $P$ is the power output and $t$ is time. This gives the total energy output over the given time span.\n",
    "\n",
    "TODO: insert chart\n",
    "\n",
    "For this case, I wil approximate the integral numerically using the simple trapezoid formula. Instead of coding it by hand, numpy comes with a `trapz` method.\n",
    "\n",
    "This energy output is specifically for 50W panels. To be able to scale it to a larger panel application, this energy output needs to be dimensionless. This is done by dividing the actual energy output by the rated energy output. I will call this efficiency. If an efficiency is predicted, you can simply multiply it by the solar panel rating to get the estimated actual energy output. Therefore, I will use this efficiency as my target variable."
   ]
  },
  {
   "cell_type": "code",
   "execution_count": 8,
   "metadata": {},
   "outputs": [
    {
     "data": {
      "text/html": [
       "<div>\n",
       "<style scoped>\n",
       "    .dataframe tbody tr th:only-of-type {\n",
       "        vertical-align: middle;\n",
       "    }\n",
       "\n",
       "    .dataframe tbody tr th {\n",
       "        vertical-align: top;\n",
       "    }\n",
       "\n",
       "    .dataframe thead th {\n",
       "        text-align: right;\n",
       "    }\n",
       "</style>\n",
       "<table border=\"1\" class=\"dataframe\">\n",
       "  <thead>\n",
       "    <tr style=\"text-align: right;\">\n",
       "      <th></th>\n",
       "      <th>date</th>\n",
       "      <th>location</th>\n",
       "      <th>daily_energy</th>\n",
       "      <th>operation_time</th>\n",
       "      <th>ideal_daily_energy</th>\n",
       "      <th>Latitude</th>\n",
       "      <th>Longitude</th>\n",
       "      <th>Altitude</th>\n",
       "      <th>Humidity</th>\n",
       "      <th>AmbientTemp</th>\n",
       "      <th>Wind.Speed</th>\n",
       "      <th>Visibility</th>\n",
       "      <th>Pressure</th>\n",
       "      <th>Cloud.Ceiling</th>\n",
       "    </tr>\n",
       "  </thead>\n",
       "  <tbody>\n",
       "    <tr>\n",
       "      <th>0</th>\n",
       "      <td>2017-05-23</td>\n",
       "      <td>JDMT</td>\n",
       "      <td>78.134520</td>\n",
       "      <td>4.00</td>\n",
       "      <td>200.0</td>\n",
       "      <td>26.98</td>\n",
       "      <td>-80.11</td>\n",
       "      <td>2.0</td>\n",
       "      <td>36.097718</td>\n",
       "      <td>38.398038</td>\n",
       "      <td>13.750000</td>\n",
       "      <td>10.000000</td>\n",
       "      <td>1013.675000</td>\n",
       "      <td>5.242304</td>\n",
       "    </tr>\n",
       "    <tr>\n",
       "      <th>1</th>\n",
       "      <td>2017-05-24</td>\n",
       "      <td>JDMT</td>\n",
       "      <td>84.751535</td>\n",
       "      <td>5.00</td>\n",
       "      <td>250.0</td>\n",
       "      <td>26.98</td>\n",
       "      <td>-80.11</td>\n",
       "      <td>2.0</td>\n",
       "      <td>39.012452</td>\n",
       "      <td>39.214906</td>\n",
       "      <td>18.800000</td>\n",
       "      <td>10.000000</td>\n",
       "      <td>1009.100000</td>\n",
       "      <td>17.909174</td>\n",
       "    </tr>\n",
       "    <tr>\n",
       "      <th>2</th>\n",
       "      <td>2017-05-25</td>\n",
       "      <td>JDMT</td>\n",
       "      <td>55.436922</td>\n",
       "      <td>5.75</td>\n",
       "      <td>287.5</td>\n",
       "      <td>26.98</td>\n",
       "      <td>-80.11</td>\n",
       "      <td>2.0</td>\n",
       "      <td>87.121582</td>\n",
       "      <td>28.953932</td>\n",
       "      <td>10.666667</td>\n",
       "      <td>7.583333</td>\n",
       "      <td>1011.566667</td>\n",
       "      <td>1.285177</td>\n",
       "    </tr>\n",
       "    <tr>\n",
       "      <th>3</th>\n",
       "      <td>2017-05-25</td>\n",
       "      <td>USAFA</td>\n",
       "      <td>88.814154</td>\n",
       "      <td>5.50</td>\n",
       "      <td>275.0</td>\n",
       "      <td>38.95</td>\n",
       "      <td>-104.83</td>\n",
       "      <td>1947.0</td>\n",
       "      <td>10.343279</td>\n",
       "      <td>35.505829</td>\n",
       "      <td>16.428571</td>\n",
       "      <td>10.000000</td>\n",
       "      <td>786.942857</td>\n",
       "      <td>15.583228</td>\n",
       "    </tr>\n",
       "    <tr>\n",
       "      <th>4</th>\n",
       "      <td>2017-05-26</td>\n",
       "      <td>JDMT</td>\n",
       "      <td>121.932250</td>\n",
       "      <td>5.00</td>\n",
       "      <td>250.0</td>\n",
       "      <td>26.98</td>\n",
       "      <td>-80.11</td>\n",
       "      <td>2.0</td>\n",
       "      <td>39.345295</td>\n",
       "      <td>34.868848</td>\n",
       "      <td>7.166667</td>\n",
       "      <td>10.000000</td>\n",
       "      <td>1017.550000</td>\n",
       "      <td>18.668089</td>\n",
       "    </tr>\n",
       "  </tbody>\n",
       "</table>\n",
       "</div>"
      ],
      "text/plain": [
       "         date location  daily_energy  operation_time  ideal_daily_energy  \\\n",
       "0  2017-05-23     JDMT     78.134520            4.00               200.0   \n",
       "1  2017-05-24     JDMT     84.751535            5.00               250.0   \n",
       "2  2017-05-25     JDMT     55.436922            5.75               287.5   \n",
       "3  2017-05-25    USAFA     88.814154            5.50               275.0   \n",
       "4  2017-05-26     JDMT    121.932250            5.00               250.0   \n",
       "\n",
       "   Latitude  Longitude  Altitude   Humidity  AmbientTemp  Wind.Speed  \\\n",
       "0     26.98     -80.11       2.0  36.097718    38.398038   13.750000   \n",
       "1     26.98     -80.11       2.0  39.012452    39.214906   18.800000   \n",
       "2     26.98     -80.11       2.0  87.121582    28.953932   10.666667   \n",
       "3     38.95    -104.83    1947.0  10.343279    35.505829   16.428571   \n",
       "4     26.98     -80.11       2.0  39.345295    34.868848    7.166667   \n",
       "\n",
       "   Visibility     Pressure  Cloud.Ceiling  \n",
       "0   10.000000  1013.675000       5.242304  \n",
       "1   10.000000  1009.100000      17.909174  \n",
       "2    7.583333  1011.566667       1.285177  \n",
       "3   10.000000   786.942857      15.583228  \n",
       "4   10.000000  1017.550000      18.668089  "
      ]
     },
     "execution_count": 8,
     "metadata": {},
     "output_type": "execute_result"
    }
   ],
   "source": [
    "d = {\n",
    "    \"date\": [],\n",
    "    \"location\": [],\n",
    "    \"daily_energy\": [],\n",
    "    \"operation_time\": [],\n",
    "    \"ideal_daily_energy\": [],\n",
    "    \"Latitude\": [],\n",
    "    \"Longitude\": [],\n",
    "    \"Altitude\": [],\n",
    "    \"Humidity\": [],\n",
    "    \"AmbientTemp\": [],\n",
    "    \"Wind.Speed\": [],\n",
    "    \"Visibility\": [],\n",
    "    \"Pressure\": [],\n",
    "    \"Cloud.Ceiling\": []\n",
    "    }\n",
    "\n",
    "for unique_date in np.unique(df.index.date):\n",
    "    for unique_location in df.loc[str(unique_date)][\"Location\"].unique():\n",
    "\n",
    "        matching_date_df = df.loc[str(unique_date)]\n",
    "        matching_date_and_loc = matching_date_df[matching_date_df[\"Location\"]==unique_location]\n",
    "\n",
    "        operation_time = matching_date_and_loc.index.max() - matching_date_and_loc.index.min()\n",
    "        operation_time = operation_time.total_seconds()/3600 # hours\n",
    "        if operation_time == 0:\n",
    "            continue # skip if not operating that day\n",
    "        ideal_output = operation_time * 50 # 50 Watt rated panel\n",
    "\n",
    "        x = matching_date_and_loc.sort_index().index.values.astype(np.int64)//10 ** 9/3600\n",
    "        y = matching_date_and_loc.sort_index()[\"PolyPwr\"]\n",
    "        daily_output = np.trapz(y, x) # Watt-hours unit\n",
    "\n",
    "        d[\"date\"].append(unique_date)\n",
    "        d[\"location\"].append(unique_location)\n",
    "        d[\"operation_time\"].append(operation_time)\n",
    "        d[\"daily_energy\"].append(daily_output)\n",
    "        d[\"ideal_daily_energy\"].append(ideal_output)\n",
    "\n",
    "        for feature in df.drop([\"Location\", \"PolyPwr\"], axis=1).columns.values:\n",
    "            d[feature].append(matching_date_and_loc[feature].mean())\n",
    "\n",
    "\n",
    "daily_df = pd.DataFrame(d)\n",
    "daily_df.head()"
   ]
  },
  {
   "cell_type": "code",
   "execution_count": 9,
   "metadata": {},
   "outputs": [],
   "source": [
    "daily_df[\"daily_efficiency\"] = daily_df[\"daily_energy\"]/daily_df[\"ideal_daily_energy\"]"
   ]
  },
  {
   "cell_type": "markdown",
   "metadata": {},
   "source": [
    "I also want to extract the month and day of the month to use as features in the model."
   ]
  },
  {
   "cell_type": "code",
   "execution_count": 10,
   "metadata": {},
   "outputs": [],
   "source": [
    "daily_df[\"date\"] = pd.to_datetime(daily_df[\"date\"], format=\"%Y-%m-%d\")\n",
    "daily_df[\"month\"] = daily_df[\"date\"].dt.month\n",
    "daily_df[\"day\"] = daily_df[\"date\"].dt.day"
   ]
  },
  {
   "cell_type": "code",
   "execution_count": 11,
   "metadata": {},
   "outputs": [
    {
     "data": {
      "text/html": [
       "<div>\n",
       "<style scoped>\n",
       "    .dataframe tbody tr th:only-of-type {\n",
       "        vertical-align: middle;\n",
       "    }\n",
       "\n",
       "    .dataframe tbody tr th {\n",
       "        vertical-align: top;\n",
       "    }\n",
       "\n",
       "    .dataframe thead th {\n",
       "        text-align: right;\n",
       "    }\n",
       "</style>\n",
       "<table border=\"1\" class=\"dataframe\">\n",
       "  <thead>\n",
       "    <tr style=\"text-align: right;\">\n",
       "      <th></th>\n",
       "      <th>daily_energy</th>\n",
       "      <th>operation_time</th>\n",
       "      <th>ideal_daily_energy</th>\n",
       "      <th>Latitude</th>\n",
       "      <th>Longitude</th>\n",
       "      <th>Altitude</th>\n",
       "      <th>Humidity</th>\n",
       "      <th>AmbientTemp</th>\n",
       "      <th>Wind.Speed</th>\n",
       "      <th>Visibility</th>\n",
       "      <th>Pressure</th>\n",
       "      <th>Cloud.Ceiling</th>\n",
       "      <th>daily_efficiency</th>\n",
       "      <th>month</th>\n",
       "      <th>day</th>\n",
       "    </tr>\n",
       "  </thead>\n",
       "  <tbody>\n",
       "    <tr>\n",
       "      <th>count</th>\n",
       "      <td>3582.000000</td>\n",
       "      <td>3582.000000</td>\n",
       "      <td>3582.000000</td>\n",
       "      <td>3582.000000</td>\n",
       "      <td>3582.000000</td>\n",
       "      <td>3582.000000</td>\n",
       "      <td>3582.000000</td>\n",
       "      <td>3582.000000</td>\n",
       "      <td>3582.000000</td>\n",
       "      <td>3582.000000</td>\n",
       "      <td>3582.000000</td>\n",
       "      <td>3582.000000</td>\n",
       "      <td>3582.000000</td>\n",
       "      <td>3582.000000</td>\n",
       "      <td>3582.000000</td>\n",
       "    </tr>\n",
       "    <tr>\n",
       "      <th>mean</th>\n",
       "      <td>62.218988</td>\n",
       "      <td>4.481505</td>\n",
       "      <td>224.075237</td>\n",
       "      <td>38.125882</td>\n",
       "      <td>-108.456226</td>\n",
       "      <td>758.036851</td>\n",
       "      <td>36.559933</td>\n",
       "      <td>29.196217</td>\n",
       "      <td>10.307284</td>\n",
       "      <td>9.752448</td>\n",
       "      <td>930.608966</td>\n",
       "      <td>16.145532</td>\n",
       "      <td>0.269390</td>\n",
       "      <td>6.579564</td>\n",
       "      <td>15.758794</td>\n",
       "    </tr>\n",
       "    <tr>\n",
       "      <th>std</th>\n",
       "      <td>31.027227</td>\n",
       "      <td>0.992497</td>\n",
       "      <td>49.624829</td>\n",
       "      <td>6.546400</td>\n",
       "      <td>16.766465</td>\n",
       "      <td>756.225700</td>\n",
       "      <td>21.241312</td>\n",
       "      <td>11.427519</td>\n",
       "      <td>5.483647</td>\n",
       "      <td>0.988677</td>\n",
       "      <td>83.682765</td>\n",
       "      <td>7.602125</td>\n",
       "      <td>0.119932</td>\n",
       "      <td>3.071649</td>\n",
       "      <td>8.850453</td>\n",
       "    </tr>\n",
       "    <tr>\n",
       "      <th>min</th>\n",
       "      <td>0.413411</td>\n",
       "      <td>0.250000</td>\n",
       "      <td>12.500000</td>\n",
       "      <td>20.890000</td>\n",
       "      <td>-156.440000</td>\n",
       "      <td>1.000000</td>\n",
       "      <td>0.067139</td>\n",
       "      <td>-17.170753</td>\n",
       "      <td>0.000000</td>\n",
       "      <td>0.266667</td>\n",
       "      <td>782.000000</td>\n",
       "      <td>0.053337</td>\n",
       "      <td>0.009149</td>\n",
       "      <td>1.000000</td>\n",
       "      <td>1.000000</td>\n",
       "    </tr>\n",
       "    <tr>\n",
       "      <th>25%</th>\n",
       "      <td>37.954739</td>\n",
       "      <td>4.000000</td>\n",
       "      <td>200.000000</td>\n",
       "      <td>38.160000</td>\n",
       "      <td>-117.260000</td>\n",
       "      <td>2.000000</td>\n",
       "      <td>19.210434</td>\n",
       "      <td>22.464141</td>\n",
       "      <td>6.400000</td>\n",
       "      <td>10.000000</td>\n",
       "      <td>852.356429</td>\n",
       "      <td>10.226303</td>\n",
       "      <td>0.175739</td>\n",
       "      <td>4.000000</td>\n",
       "      <td>8.000000</td>\n",
       "    </tr>\n",
       "    <tr>\n",
       "      <th>50%</th>\n",
       "      <td>65.544651</td>\n",
       "      <td>5.000000</td>\n",
       "      <td>250.000000</td>\n",
       "      <td>38.820000</td>\n",
       "      <td>-111.180000</td>\n",
       "      <td>458.000000</td>\n",
       "      <td>34.356690</td>\n",
       "      <td>30.746409</td>\n",
       "      <td>9.125000</td>\n",
       "      <td>10.000000</td>\n",
       "      <td>963.431250</td>\n",
       "      <td>22.005486</td>\n",
       "      <td>0.286641</td>\n",
       "      <td>7.000000</td>\n",
       "      <td>16.000000</td>\n",
       "    </tr>\n",
       "    <tr>\n",
       "      <th>75%</th>\n",
       "      <td>87.188323</td>\n",
       "      <td>5.000000</td>\n",
       "      <td>250.000000</td>\n",
       "      <td>41.150000</td>\n",
       "      <td>-95.750000</td>\n",
       "      <td>1370.000000</td>\n",
       "      <td>50.099755</td>\n",
       "      <td>37.635068</td>\n",
       "      <td>13.600000</td>\n",
       "      <td>10.000000</td>\n",
       "      <td>1009.775000</td>\n",
       "      <td>22.005486</td>\n",
       "      <td>0.365881</td>\n",
       "      <td>9.000000</td>\n",
       "      <td>23.750000</td>\n",
       "    </tr>\n",
       "    <tr>\n",
       "      <th>max</th>\n",
       "      <td>139.395830</td>\n",
       "      <td>5.750000</td>\n",
       "      <td>287.500000</td>\n",
       "      <td>47.520000</td>\n",
       "      <td>-80.110000</td>\n",
       "      <td>1947.000000</td>\n",
       "      <td>99.987790</td>\n",
       "      <td>58.385430</td>\n",
       "      <td>38.000000</td>\n",
       "      <td>10.000000</td>\n",
       "      <td>1028.800000</td>\n",
       "      <td>22.005486</td>\n",
       "      <td>0.564822</td>\n",
       "      <td>12.000000</td>\n",
       "      <td>31.000000</td>\n",
       "    </tr>\n",
       "  </tbody>\n",
       "</table>\n",
       "</div>"
      ],
      "text/plain": [
       "       daily_energy  operation_time  ideal_daily_energy     Latitude  \\\n",
       "count   3582.000000     3582.000000         3582.000000  3582.000000   \n",
       "mean      62.218988        4.481505          224.075237    38.125882   \n",
       "std       31.027227        0.992497           49.624829     6.546400   \n",
       "min        0.413411        0.250000           12.500000    20.890000   \n",
       "25%       37.954739        4.000000          200.000000    38.160000   \n",
       "50%       65.544651        5.000000          250.000000    38.820000   \n",
       "75%       87.188323        5.000000          250.000000    41.150000   \n",
       "max      139.395830        5.750000          287.500000    47.520000   \n",
       "\n",
       "         Longitude     Altitude     Humidity  AmbientTemp   Wind.Speed  \\\n",
       "count  3582.000000  3582.000000  3582.000000  3582.000000  3582.000000   \n",
       "mean   -108.456226   758.036851    36.559933    29.196217    10.307284   \n",
       "std      16.766465   756.225700    21.241312    11.427519     5.483647   \n",
       "min    -156.440000     1.000000     0.067139   -17.170753     0.000000   \n",
       "25%    -117.260000     2.000000    19.210434    22.464141     6.400000   \n",
       "50%    -111.180000   458.000000    34.356690    30.746409     9.125000   \n",
       "75%     -95.750000  1370.000000    50.099755    37.635068    13.600000   \n",
       "max     -80.110000  1947.000000    99.987790    58.385430    38.000000   \n",
       "\n",
       "        Visibility     Pressure  Cloud.Ceiling  daily_efficiency        month  \\\n",
       "count  3582.000000  3582.000000    3582.000000       3582.000000  3582.000000   \n",
       "mean      9.752448   930.608966      16.145532          0.269390     6.579564   \n",
       "std       0.988677    83.682765       7.602125          0.119932     3.071649   \n",
       "min       0.266667   782.000000       0.053337          0.009149     1.000000   \n",
       "25%      10.000000   852.356429      10.226303          0.175739     4.000000   \n",
       "50%      10.000000   963.431250      22.005486          0.286641     7.000000   \n",
       "75%      10.000000  1009.775000      22.005486          0.365881     9.000000   \n",
       "max      10.000000  1028.800000      22.005486          0.564822    12.000000   \n",
       "\n",
       "               day  \n",
       "count  3582.000000  \n",
       "mean     15.758794  \n",
       "std       8.850453  \n",
       "min       1.000000  \n",
       "25%       8.000000  \n",
       "50%      16.000000  \n",
       "75%      23.750000  \n",
       "max      31.000000  "
      ]
     },
     "execution_count": 11,
     "metadata": {},
     "output_type": "execute_result"
    }
   ],
   "source": [
    "daily_df.describe()"
   ]
  },
  {
   "cell_type": "code",
   "execution_count": 12,
   "metadata": {},
   "outputs": [],
   "source": [
    "model_df = daily_df.drop([\n",
    "    \"operation_time\", \"daily_energy\", \"ideal_daily_energy\", \n",
    "    \"location\", \"Visibility\", \"date\"], axis=1)"
   ]
  },
  {
   "cell_type": "code",
   "execution_count": 13,
   "metadata": {},
   "outputs": [
    {
     "data": {
      "image/png": "[encoded data removed]",
      "text/plain": [
       "<Figure size 432x288 with 1 Axes>"
      ]
     },
     "metadata": {},
     "output_type": "display_data"
    },
    {
     "data": {
      "image/png": "[encoded data removed]",
      "text/plain": [
       "<Figure size 432x288 with 1 Axes>"
      ]
     },
     "metadata": {},
     "output_type": "display_data"
    },
    {
     "data": {
      "image/png": "[encoded data removed]",
      "text/plain": [
       "<Figure size 432x288 with 1 Axes>"
      ]
     },
     "metadata": {},
     "output_type": "display_data"
    },
    {
     "data": {
      "image/png": "[encoded data removed]",
      "text/plain": [
       "<Figure size 432x288 with 1 Axes>"
      ]
     },
     "metadata": {},
     "output_type": "display_data"
    },
    {
     "data": {
      "image/png": "[encoded data removed]",
      "text/plain": [
       "<Figure size 432x288 with 1 Axes>"
      ]
     },
     "metadata": {},
     "output_type": "display_data"
    },
    {
     "data": {
      "image/png": "[encoded data removed]",
      "text/plain": [
       "<Figure size 432x288 with 1 Axes>"
      ]
     },
     "metadata": {},
     "output_type": "display_data"
    },
    {
     "data": {
      "image/png": "[encoded data removed]",
      "text/plain": [
       "<Figure size 432x288 with 1 Axes>"
      ]
     },
     "metadata": {},
     "output_type": "display_data"
    },
    {
     "data": {
      "image/png": "[encoded data removed]",
      "text/plain": [
       "<Figure size 432x288 with 1 Axes>"
      ]
     },
     "metadata": {},
     "output_type": "display_data"
    },
    {
     "data": {
      "image/png": "[encoded data removed]",
      "text/plain": [
       "<Figure size 432x288 with 1 Axes>"
      ]
     },
     "metadata": {},
     "output_type": "display_data"
    },
    {
     "data": {
      "image/png": "[encoded data removed]",
      "text/plain": [
       "<Figure size 432x288 with 1 Axes>"
      ]
     },
     "metadata": {},
     "output_type": "display_data"
    },
    {
     "data": {
      "image/png": "[encoded data removed]",
      "text/plain": [
       "<Figure size 432x288 with 1 Axes>"
      ]
     },
     "metadata": {},
     "output_type": "display_data"
    }
   ],
   "source": [
    "for col in model_df.columns.values:\n",
    "    plt.hist(model_df[col])\n",
    "    plt.title(col)\n",
    "    plt.show()"
   ]
  },
  {
   "cell_type": "markdown",
   "metadata": {},
   "source": [
    "## Feature Selection"
   ]
  },
  {
   "cell_type": "code",
   "execution_count": 13,
   "metadata": {},
   "outputs": [],
   "source": [
    "from sklearn.feature_selection import SelectKBest\n",
    "from sklearn.feature_selection import mutual_info_regression"
   ]
  },
  {
   "cell_type": "code",
   "execution_count": 14,
   "metadata": {},
   "outputs": [],
   "source": [
    "X = model_df.drop([\"daily_efficiency\"], axis=1)\n",
    "y = model_df[\"daily_efficiency\"]"
   ]
  },
  {
   "cell_type": "code",
   "execution_count": 15,
   "metadata": {},
   "outputs": [
    {
     "name": "stdout",
     "output_type": "stream",
     "text": [
      "           Specs     Score\n",
      "4    AmbientTemp  0.356033\n",
      "8          month  0.264870\n",
      "0       Latitude  0.246527\n",
      "1      Longitude  0.246196\n",
      "6       Pressure  0.202490\n",
      "2       Altitude  0.196062\n",
      "7  Cloud.Ceiling  0.165050\n",
      "3       Humidity  0.132048\n",
      "5     Wind.Speed  0.020928\n",
      "9            day  0.000000\n"
     ]
    }
   ],
   "source": [
    "best_features = SelectKBest(score_func=mutual_info_regression, k=5).fit(X, y)\n",
    "\n",
    "dfscores = pd.DataFrame(best_features.scores_)\n",
    "dfcolumns = pd.DataFrame(X.columns)\n",
    "#concat two dataframes for better visualization \n",
    "featureScores = pd.concat([dfcolumns, dfscores],axis=1)\n",
    "featureScores.columns = ['Specs','Score']  #naming the dataframe columns\n",
    "print(featureScores.nlargest(10,'Score'))"
   ]
  },
  {
   "cell_type": "code",
   "execution_count": 58,
   "metadata": {},
   "outputs": [],
   "source": [
    "selection_mask = best_features.get_support()\n",
    "X_selected = X[X.columns[selection_mask]]"
   ]
  },
  {
   "cell_type": "markdown",
   "metadata": {},
   "source": [
    "# The Model"
   ]
  },
  {
   "cell_type": "markdown",
   "metadata": {},
   "source": [
    "Models to try:\n",
    "1. Decision Tree\n",
    "2. Random Forest\n",
    "3. Multiple Linear Regression\n",
    "\n",
    "I am using mean squared error as an evaluation metric defined as:\n",
    "$$MSE = \\frac{1}{n}\\sum_{i=1}^n(y_i - \\hat{y}_i)^2$$\n",
    "\n",
    "For each model, I will train and do a small grid search for hyperparameters. Then, I will calculate the mean squared error and compare them. `GridSearchCV` automatically implements cross validation which is useful since there are going to be less than 3,000 samples in the training set."
   ]
  },
  {
   "cell_type": "markdown",
   "metadata": {},
   "source": [
    "## Split and Shuffle"
   ]
  },
  {
   "cell_type": "code",
   "execution_count": 59,
   "metadata": {},
   "outputs": [],
   "source": [
    "X_train, X_test, y_train, y_test = train_test_split(X_selected, y, test_size=0.2)"
   ]
  },
  {
   "cell_type": "code",
   "execution_count": 60,
   "metadata": {},
   "outputs": [],
   "source": [
    "model_scores = {}"
   ]
  },
  {
   "cell_type": "markdown",
   "metadata": {},
   "source": [
    "## Model 1: Decision Tree Regression\n",
    "This model is being used because it is easy to implement, non-linearity doesn't affect performance, and I wanted to learn more about decision trees. Decision trees can be easily overfit so the `max_depth` hyperparameter is especially important to avoid this."
   ]
  },
  {
   "cell_type": "code",
   "execution_count": 61,
   "metadata": {},
   "outputs": [],
   "source": [
    "pipeline = Pipeline(steps=[\n",
    "    (\"scale\", StandardScaler()),\n",
    "    (\"regression\", DecisionTreeRegressor()),\n",
    "])\n",
    "\n",
    "parameter_grid = {\n",
    "    \"regression__max_depth\": [5, 7, 9, 11],\n",
    "    \"regression__min_samples_split\": [2, 5, 7,],\n",
    "    \"regression__min_samples_leaf\": [2, 5, 7, 9]\n",
    "}\n",
    "\n",
    "search = GridSearchCV(pipeline, parameter_grid, cv=5)"
   ]
  },
  {
   "cell_type": "code",
   "execution_count": 62,
   "metadata": {},
   "outputs": [
    {
     "data": {
      "text/plain": [
       "GridSearchCV(cv=5,\n",
       "             estimator=Pipeline(steps=[('scale', StandardScaler()),\n",
       "                                       ('regression',\n",
       "                                        DecisionTreeRegressor())]),\n",
       "             param_grid={'regression__max_depth': [5, 7, 9, 11],\n",
       "                         'regression__min_samples_leaf': [2, 5, 7, 9],\n",
       "                         'regression__min_samples_split': [2, 5, 7]})"
      ]
     },
     "execution_count": 62,
     "metadata": {},
     "output_type": "execute_result"
    }
   ],
   "source": [
    "search.fit(X_train, y_train)"
   ]
  },
  {
   "cell_type": "code",
   "execution_count": 63,
   "metadata": {},
   "outputs": [
    {
     "data": {
      "text/plain": [
       "{'regression__max_depth': 9,\n",
       " 'regression__min_samples_leaf': 9,\n",
       " 'regression__min_samples_split': 2}"
      ]
     },
     "execution_count": 63,
     "metadata": {},
     "output_type": "execute_result"
    }
   ],
   "source": [
    "search.best_params_"
   ]
  },
  {
   "cell_type": "code",
   "execution_count": 64,
   "metadata": {},
   "outputs": [
    {
     "data": {
      "image/png": "[encoded data removed]",
      "text/plain": [
       "<Figure size 432x288 with 1 Axes>"
      ]
     },
     "metadata": {},
     "output_type": "display_data"
    }
   ],
   "source": [
    "y_predicted = search.predict(X_train)\n",
    "\n",
    "plt.scatter(y_train, y_predicted)\n",
    "plt.ylabel(\"Predicted Efficiency\")\n",
    "plt.xlabel(\"Actual Efficiency\")\n",
    "plt.title(\"Decision Tree\")\n",
    "plt.show()"
   ]
  },
  {
   "cell_type": "markdown",
   "metadata": {},
   "source": [
    "The points are roughly around the $y=x$ line but there is a significant spread around it."
   ]
  },
  {
   "cell_type": "code",
   "execution_count": 65,
   "metadata": {},
   "outputs": [
    {
     "name": "stdout",
     "output_type": "stream",
     "text": [
      "0.003259236162306348\n"
     ]
    }
   ],
   "source": [
    "model_scores[\"decision_tree\"] = mean_squared_error(y_train, y_predicted)\n",
    "print(model_scores[\"decision_tree\"])"
   ]
  },
  {
   "cell_type": "markdown",
   "metadata": {},
   "source": [
    "## Model 2: Random Forest\n",
    "The random forest model uses many different decision trees and combines their votes to make a prediction. This is an ensemble method and greatly reduces risk of overfitting when using a decision tree. "
   ]
  },
  {
   "cell_type": "code",
   "execution_count": 66,
   "metadata": {},
   "outputs": [],
   "source": [
    "pipeline = Pipeline(steps=[\n",
    "    (\"scale\", StandardScaler()),\n",
    "    (\"regression\", RandomForestRegressor())\n",
    "])"
   ]
  },
  {
   "cell_type": "code",
   "execution_count": 67,
   "metadata": {},
   "outputs": [],
   "source": [
    "parameter_grid = {\n",
    "    \"regression__n_estimators\": [50, 100, 150],\n",
    "    \"regression__max_features\": [\"auto\", \"log2\"]\n",
    "}\n",
    "\n",
    "search = GridSearchCV(pipeline, parameter_grid, cv=5)"
   ]
  },
  {
   "cell_type": "code",
   "execution_count": 68,
   "metadata": {},
   "outputs": [
    {
     "data": {
      "text/plain": [
       "GridSearchCV(cv=5,\n",
       "             estimator=Pipeline(steps=[('scale', StandardScaler()),\n",
       "                                       ('regression',\n",
       "                                        RandomForestRegressor())]),\n",
       "             param_grid={'regression__max_features': ['auto', 'log2'],\n",
       "                         'regression__n_estimators': [50, 100, 150]})"
      ]
     },
     "execution_count": 68,
     "metadata": {},
     "output_type": "execute_result"
    }
   ],
   "source": [
    "search.fit(X_train, y_train)"
   ]
  },
  {
   "cell_type": "code",
   "execution_count": 69,
   "metadata": {},
   "outputs": [
    {
     "data": {
      "text/plain": [
       "{'regression__max_features': 'log2', 'regression__n_estimators': 150}"
      ]
     },
     "execution_count": 69,
     "metadata": {},
     "output_type": "execute_result"
    }
   ],
   "source": [
    "search.best_params_"
   ]
  },
  {
   "cell_type": "code",
   "execution_count": 70,
   "metadata": {},
   "outputs": [
    {
     "data": {
      "image/png": "[encoded data removed]",
      "text/plain": [
       "<Figure size 432x288 with 1 Axes>"
      ]
     },
     "metadata": {},
     "output_type": "display_data"
    }
   ],
   "source": [
    "y_predicted = search.predict(X_train)\n",
    "\n",
    "plt.scatter(y_predicted, y_train)\n",
    "plt.ylabel(\"Predicted Efficiency\")\n",
    "plt.xlabel(\"Actual Efficiency\")\n",
    "plt.title(\"Random Forest\")\n",
    "plt.show()"
   ]
  },
  {
   "cell_type": "markdown",
   "metadata": {},
   "source": [
    "This is a much tighter spread compared to the decision tree."
   ]
  },
  {
   "cell_type": "code",
   "execution_count": 71,
   "metadata": {},
   "outputs": [
    {
     "name": "stdout",
     "output_type": "stream",
     "text": [
      "0.000551382083070425\n"
     ]
    }
   ],
   "source": [
    "model_scores[\"random_forest\"] = mean_squared_error(y_train, y_predicted)\n",
    "print(model_scores[\"random_forest\"])"
   ]
  },
  {
   "cell_type": "markdown",
   "metadata": {},
   "source": [
    "## Model 3: Multiple Linear Regression\n",
    "A simple statistical model but we need to check assumptions along the way."
   ]
  },
  {
   "cell_type": "markdown",
   "metadata": {},
   "source": [
    "### Assumption 1: Linearity"
   ]
  },
  {
   "cell_type": "code",
   "execution_count": 76,
   "metadata": {},
   "outputs": [
    {
     "data": {
      "image/png": "[encoded data removed]",
      "text/plain": [
       "<Figure size 432x288 with 1 Axes>"
      ]
     },
     "metadata": {},
     "output_type": "display_data"
    },
    {
     "data": {
      "image/png": "[encoded data removed]",
      "text/plain": [
       "<Figure size 432x288 with 1 Axes>"
      ]
     },
     "metadata": {},
     "output_type": "display_data"
    },
    {
     "data": {
      "image/png": "[encoded data removed]",
      "text/plain": [
       "<Figure size 432x288 with 1 Axes>"
      ]
     },
     "metadata": {},
     "output_type": "display_data"
    },
    {
     "data": {
      "image/png": "[encoded data removed]",
      "text/plain": [
       "<Figure size 432x288 with 1 Axes>"
      ]
     },
     "metadata": {},
     "output_type": "display_data"
    },
    {
     "data": {
      "image/png": "[encoded data removed]",
      "text/plain": [
       "<Figure size 432x288 with 1 Axes>"
      ]
     },
     "metadata": {},
     "output_type": "display_data"
    }
   ],
   "source": [
    "for col in X_train.columns.values:\n",
    "    plt.scatter(X_train[col], y_train)\n",
    "    plt.title(col)\n",
    "    plt.show()"
   ]
  },
  {
   "cell_type": "markdown",
   "metadata": {},
   "source": [
    "All independent variables are either close to linear or random (not non-linear). Let's proceed to the next assumption.\n",
    "\n",
    "### Assumption 2: No multicollinearity"
   ]
  },
  {
   "cell_type": "code",
   "execution_count": 77,
   "metadata": {},
   "outputs": [
    {
     "data": {
      "text/plain": [
       "<AxesSubplot:>"
      ]
     },
     "execution_count": 77,
     "metadata": {},
     "output_type": "execute_result"
    },
    {
     "data": {
      "image/png": "[encoded data removed]",
      "text/plain": [
       "<Figure size 432x288 with 2 Axes>"
      ]
     },
     "metadata": {},
     "output_type": "display_data"
    }
   ],
   "source": [
    "sns.heatmap(X_train.corr())"
   ]
  },
  {
   "cell_type": "markdown",
   "metadata": {},
   "source": [
    "None of the independent variables are correlated with each other."
   ]
  },
  {
   "cell_type": "code",
   "execution_count": 79,
   "metadata": {},
   "outputs": [
    {
     "data": {
      "text/plain": [
       "Pipeline(steps=[('scale', StandardScaler()),\n",
       "                ('regression', LinearRegression())])"
      ]
     },
     "execution_count": 79,
     "metadata": {},
     "output_type": "execute_result"
    }
   ],
   "source": [
    "pipeline = Pipeline(steps=[\n",
    "    (\"scale\", StandardScaler()),\n",
    "    (\"regression\", LinearRegression())\n",
    "])\n",
    "\n",
    "pipeline.fit(X_train, y_train)"
   ]
  },
  {
   "cell_type": "code",
   "execution_count": 80,
   "metadata": {},
   "outputs": [
    {
     "data": {
      "text/plain": [
       "array([-0.01101483,  0.00345748,  0.08245898,  0.0160166 , -0.02208923])"
      ]
     },
     "execution_count": 80,
     "metadata": {},
     "output_type": "execute_result"
    }
   ],
   "source": [
    "pipeline.named_steps[\"regression\"].coef_"
   ]
  },
  {
   "cell_type": "markdown",
   "metadata": {},
   "source": [
    "### Assumption 3, 4, and 5: Homoscedasticity and normality and no autocorrelation\n",
    "\n",
    "Residuals should be normally distributed with a mean of zero and a constant variance. Residuals should have no correlation."
   ]
  },
  {
   "cell_type": "code",
   "execution_count": 82,
   "metadata": {},
   "outputs": [
    {
     "data": {
      "text/plain": [
       "Text(0, 0.5, 'Residual')"
      ]
     },
     "execution_count": 82,
     "metadata": {},
     "output_type": "execute_result"
    },
    {
     "data": {
      "image/png": "[encoded data removed]",
      "text/plain": [
       "<Figure size 432x288 with 1 Axes>"
      ]
     },
     "metadata": {},
     "output_type": "display_data"
    }
   ],
   "source": [
    "y_predicted = pipeline.predict(X_train)\n",
    "\n",
    "residual = y_train - y_predicted\n",
    "\n",
    "plt.scatter(y_predicted, residual)\n",
    "plt.xlabel(\"Predicted\")\n",
    "plt.ylabel(\"Residual\")"
   ]
  },
  {
   "cell_type": "markdown",
   "metadata": {},
   "source": [
    "This looks good. The average (by eye) of the residual is close to zero. The spread also looks consistent everywhere meaning the model isn't better at predicting larger values than smaller ones, indicative of heteroscedasticity.\n",
    "\n",
    "There is a lower boundary \"line\" on the residual plot close to $y=-x$. TODO: look into this further."
   ]
  },
  {
   "cell_type": "code",
   "execution_count": 83,
   "metadata": {},
   "outputs": [
    {
     "data": {
      "text/plain": [
       "Text(0.5, 1.0, 'Multiple Linear Regression')"
      ]
     },
     "execution_count": 83,
     "metadata": {},
     "output_type": "execute_result"
    },
    {
     "data": {
      "image/png": "[encoded data removed]",
      "text/plain": [
       "<Figure size 432x288 with 1 Axes>"
      ]
     },
     "metadata": {},
     "output_type": "display_data"
    }
   ],
   "source": [
    "plt.scatter(y_train, y_predicted)\n",
    "plt.xlabel(\"Actual Efficiency\")\n",
    "plt.ylabel(\"Predicted Efficiency\")\n",
    "plt.title(\"Multiple Linear Regression\")"
   ]
  },
  {
   "cell_type": "code",
   "execution_count": 84,
   "metadata": {},
   "outputs": [
    {
     "name": "stdout",
     "output_type": "stream",
     "text": [
      "0.006761860858086297\n"
     ]
    }
   ],
   "source": [
    "model_scores[\"multiple_linear\"] = mean_squared_error(y_train, y_predicted)\n",
    "print(model_scores[\"multiple_linear\"])"
   ]
  },
  {
   "cell_type": "markdown",
   "metadata": {},
   "source": [
    "## Comparing Models"
   ]
  },
  {
   "cell_type": "code",
   "execution_count": 85,
   "metadata": {},
   "outputs": [
    {
     "data": {
      "text/html": [
       "<div>\n",
       "<style scoped>\n",
       "    .dataframe tbody tr th:only-of-type {\n",
       "        vertical-align: middle;\n",
       "    }\n",
       "\n",
       "    .dataframe tbody tr th {\n",
       "        vertical-align: top;\n",
       "    }\n",
       "\n",
       "    .dataframe thead th {\n",
       "        text-align: right;\n",
       "    }\n",
       "</style>\n",
       "<table border=\"1\" class=\"dataframe\">\n",
       "  <thead>\n",
       "    <tr style=\"text-align: right;\">\n",
       "      <th></th>\n",
       "      <th>MSE</th>\n",
       "    </tr>\n",
       "  </thead>\n",
       "  <tbody>\n",
       "    <tr>\n",
       "      <th>random_forest</th>\n",
       "      <td>0.000551</td>\n",
       "    </tr>\n",
       "    <tr>\n",
       "      <th>decision_tree</th>\n",
       "      <td>0.003259</td>\n",
       "    </tr>\n",
       "    <tr>\n",
       "      <th>multiple_linear</th>\n",
       "      <td>0.006762</td>\n",
       "    </tr>\n",
       "  </tbody>\n",
       "</table>\n",
       "</div>"
      ],
      "text/plain": [
       "                      MSE\n",
       "random_forest    0.000551\n",
       "decision_tree    0.003259\n",
       "multiple_linear  0.006762"
      ]
     },
     "execution_count": 85,
     "metadata": {},
     "output_type": "execute_result"
    }
   ],
   "source": [
    "model_comparison_df = pd.DataFrame.from_dict(model_scores, orient=\"index\", columns=[\"MSE\"])\n",
    "model_comparison_df.sort_values(\"MSE\")"
   ]
  },
  {
   "cell_type": "markdown",
   "metadata": {},
   "source": [
    "By the selected metric (MSE), random forest did much better than the rest with an MSE a whole order of magnitude smaller. Let's continue with using the random forest model and fine tuning the hyperparameters."
   ]
  },
  {
   "cell_type": "markdown",
   "metadata": {},
   "source": [
    "# The Tuning\n",
    "For the random forest regression model, the hyperparameters I will tune are:\n",
    "- n_estimators (number of trees in forest)\n",
    "- max_features (number of features to consider when looking for best split)\n",
    "- max_depth (number of levels in each tree)\n",
    "- min_samples_leaf (minimum number of samples required to be at a leaf node)\n",
    "\n",
    "As for values, I will use these for the search, inspired by [this](https://www.kaggle.com/jondavidorr/hyperparameter-tuned-random-forest-regressor/notebook) Kaggle notebook:\n",
    "- n_estimators: twelve evenly spaced values from 100 to 1200 (i.e. 100, 200, 300, ..., 1100, 1200)\n",
    "- max_features: \"auto\" and \"log2\"\n",
    "- max_depth: six evenly spaced values from 5 to 30 (i.e. 5, 10, 15, 20, 25, 30)"
   ]
  },
  {
   "cell_type": "code",
   "execution_count": 86,
   "metadata": {},
   "outputs": [],
   "source": [
    "pipeline = Pipeline(steps=[\n",
    "    (\"scale\", StandardScaler()),\n",
    "    (\"regression\", RandomForestRegressor())\n",
    "])"
   ]
  },
  {
   "cell_type": "code",
   "execution_count": 129,
   "metadata": {},
   "outputs": [],
   "source": [
    "parameter_grid = {\n",
    "    \"regression__n_estimators\": [int(x) for x in np.linspace(10, 200, 20)],\n",
    "    \"regression__max_features\": list(float(x) for x in np.linspace(0.3, 0.5, 5)) + [\"auto\"],\n",
    "    # \"regression__max_depth\": [int(x) for x in np.linspace(1, 15, 3)],\n",
    "    # \"regression__min_samples_leaf\": [int(x) for x in np.linspace(5, 10, 1)]\n",
    "}\n",
    "\n",
    "search = RandomizedSearchCV(\n",
    "    pipeline, \n",
    "    parameter_grid, \n",
    "    scoring=\"neg_mean_squared_error\", \n",
    "    cv=5,\n",
    "    random_state=42\n",
    "    )"
   ]
  },
  {
   "cell_type": "code",
   "execution_count": 130,
   "metadata": {},
   "outputs": [
    {
     "data": {
      "text/plain": [
       "RandomizedSearchCV(cv=5,\n",
       "                   estimator=Pipeline(steps=[('scale', StandardScaler()),\n",
       "                                             ('regression',\n",
       "                                              RandomForestRegressor())]),\n",
       "                   param_distributions={'regression__max_features': [0.3, 0.35,\n",
       "                                                                     0.4, 0.45,\n",
       "                                                                     0.5,\n",
       "                                                                     'auto'],\n",
       "                                        'regression__n_estimators': [10, 20, 30,\n",
       "                                                                     40, 50, 60,\n",
       "                                                                     70, 80, 90,\n",
       "                                                                     100, 110,\n",
       "                                                                     120, 130,\n",
       "                                                                     140, 150,\n",
       "                                                                     160, 170,\n",
       "                                                                     180, 190,\n",
       "                                                                     200]},\n",
       "                   random_state=42, scoring='neg_mean_squared_error')"
      ]
     },
     "execution_count": 130,
     "metadata": {},
     "output_type": "execute_result"
    }
   ],
   "source": [
    "search.fit(X_train, y_train)"
   ]
  },
  {
   "cell_type": "code",
   "execution_count": 136,
   "metadata": {},
   "outputs": [
    {
     "data": {
      "text/plain": [
       "{'regression__n_estimators': 160, 'regression__max_features': 0.4}"
      ]
     },
     "execution_count": 136,
     "metadata": {},
     "output_type": "execute_result"
    }
   ],
   "source": [
    "search.best_params_"
   ]
  },
  {
   "cell_type": "code",
   "execution_count": 137,
   "metadata": {},
   "outputs": [
    {
     "data": {
      "text/plain": [
       "Text(0, 0.5, 'Relative Importance')"
      ]
     },
     "execution_count": 137,
     "metadata": {},
     "output_type": "execute_result"
    },
    {
     "data": {
      "image/png": "[encoded data removed]",
      "text/plain": [
       "<Figure size 432x288 with 1 Axes>"
      ]
     },
     "metadata": {},
     "output_type": "display_data"
    }
   ],
   "source": [
    "feature_importance = search.best_estimator_.named_steps[\"regression\"].feature_importances_\n",
    "plt.bar(X_train.columns.values, feature_importance)\n",
    "plt.xticks(rotation=45, ha=\"right\");\n",
    "plt.title(\"Feature Importances for Tuned Random Forest\")\n",
    "plt.ylabel(\"Relative Importance\")"
   ]
  },
  {
   "cell_type": "markdown",
   "metadata": {},
   "source": [
    "Ambient temperature, month, and pressure have the highest relative importance. Surprisingly, longitude is slightly more important than latitude."
   ]
  },
  {
   "cell_type": "code",
   "execution_count": 138,
   "metadata": {},
   "outputs": [
    {
     "data": {
      "image/png": "[encoded data removed]",
      "text/plain": [
       "<Figure size 432x288 with 1 Axes>"
      ]
     },
     "metadata": {},
     "output_type": "display_data"
    }
   ],
   "source": [
    "y_predicted = search.predict(X_train)\n",
    "\n",
    "plt.scatter(y_predicted, y_train)\n",
    "plt.ylabel(\"Predicted Efficiency\")\n",
    "plt.xlabel(\"Actual Efficiency\")\n",
    "plt.title(\"Random Forest\")\n",
    "plt.show()"
   ]
  },
  {
   "cell_type": "code",
   "execution_count": 139,
   "metadata": {},
   "outputs": [
    {
     "name": "stdout",
     "output_type": "stream",
     "text": [
      "0.0005496849278327176\n"
     ]
    }
   ],
   "source": [
    "tuned_model_score = mean_squared_error(y_train, y_predicted)\n",
    "print(tuned_model_score)"
   ]
  },
  {
   "cell_type": "code",
   "execution_count": 140,
   "metadata": {},
   "outputs": [
    {
     "name": "stdout",
     "output_type": "stream",
     "text": [
      "Percent improvement from tuning: -0.3078002150988693%\n"
     ]
    }
   ],
   "source": [
    "percent_improvement = (tuned_model_score - model_scores[\"random_forest\"])/model_scores[\"random_forest\"]\n",
    "print(f\"Percent improvement from tuning: {percent_improvement*100}%\")"
   ]
  },
  {
   "cell_type": "markdown",
   "metadata": {},
   "source": [
    "The MSE went [up|down] by <>% from tuning. Finally, let's test the tuned model on the test set."
   ]
  },
  {
   "cell_type": "code",
   "execution_count": 77,
   "metadata": {},
   "outputs": [],
   "source": [
    "with open(\"tuned_model.pkl\", \"wb\") as f:\n",
    "    pickle.dump(search.best_estimator_, f)"
   ]
  },
  {
   "cell_type": "markdown",
   "metadata": {},
   "source": [
    "# The Test\n"
   ]
  },
  {
   "cell_type": "code",
   "execution_count": 78,
   "metadata": {},
   "outputs": [],
   "source": [
    "with open(\"tuned_model.pkl\", \"rb\") as f:\n",
    "    model = pickle.load(f)"
   ]
  },
  {
   "cell_type": "code",
   "execution_count": 79,
   "metadata": {},
   "outputs": [
    {
     "data": {
      "text/plain": [
       "Text(0, 0.5, 'Predicted Efficiency')"
      ]
     },
     "execution_count": 79,
     "metadata": {},
     "output_type": "execute_result"
    },
    {
     "data": {
      "image/png": "[encoded data removed]",
      "text/plain": [
       "<Figure size 432x288 with 1 Axes>"
      ]
     },
     "metadata": {},
     "output_type": "display_data"
    }
   ],
   "source": [
    "y_test_predicted = model.predict(X_test)\n",
    "\n",
    "plt.scatter(y_test, y_test_predicted)\n",
    "plt.title(\"Test Data Predictions\")\n",
    "plt.xlabel(\"Actual Efficiency\")\n",
    "plt.ylabel(\"Predicted Efficiency\")"
   ]
  },
  {
   "cell_type": "code",
   "execution_count": 80,
   "metadata": {},
   "outputs": [
    {
     "name": "stdout",
     "output_type": "stream",
     "text": [
      "MSE on Test Data: 0.00314\n",
      "MSE on Train Data: 0.000704\n"
     ]
    }
   ],
   "source": [
    "test_mse = mean_squared_error(y_test, y_test_predicted)\n",
    "print(f\"MSE on Test Data: {test_mse:.3}\\nMSE on Train Data: {tuned_model_score:.3}\")"
   ]
  },
  {
   "cell_type": "code",
   "execution_count": 81,
   "metadata": {},
   "outputs": [
    {
     "name": "stdout",
     "output_type": "stream",
     "text": [
      "Percent Change From Training to Test: 345.8765109875584%\n"
     ]
    }
   ],
   "source": [
    "test_train_diff = (test_mse - tuned_model_score)/tuned_model_score\n",
    "print(f\"Percent Change From Training to Test: {test_train_diff*100}%\")"
   ]
  },
  {
   "cell_type": "markdown",
   "metadata": {},
   "source": [
    "*Overfitting!* Go back to grid search and reduce model complexity (smaller max_depth). Also try dropping useless features."
   ]
  },
  {
   "cell_type": "markdown",
   "metadata": {},
   "source": [
    "# The Future Work\n",
    "- try other models (boosted trees like XGBoost, Adaboost, etc.)\n",
    "- download weather forecast for the next x days and spit out a summary report (streamlit)\n",
    "- feature selection\n",
    "- combine models into one GridSearchCV/RandomizedSearchCV\n",
    "    - use GridSearchCV to find the best model then only tune hyperparameters for that model rather than GridSearch every model individually\n",
    "- try dropping unimportant features from random forest model"
   ]
  },
  {
   "cell_type": "markdown",
   "metadata": {},
   "source": []
  }
 ],
 "metadata": {
  "interpreter": {
   "hash": "26c8373cecf1876cea45129a79473c3d21a2c768d6e24f15047a4b4c60ea5dd9"
  },
  "kernelspec": {
   "display_name": "Python 3.10.1 64-bit ('solar-output': conda)",
   "language": "python",
   "name": "python3"
  },
  "language_info": {
   "codemirror_mode": {
    "name": "ipython",
    "version": 3
   },
   "file_extension": ".py",
   "mimetype": "text/x-python",
   "name": "python",
   "nbconvert_exporter": "python",
   "pygments_lexer": "ipython3",
   "version": "3.10.1"
  },
  "orig_nbformat": 4
 },
 "nbformat": 4,
 "nbformat_minor": 2
}
